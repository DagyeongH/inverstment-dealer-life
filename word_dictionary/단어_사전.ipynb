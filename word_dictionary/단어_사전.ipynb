{
  "cells": [
    {
      "cell_type": "code",
      "source": [
        "import requests, random\n",
        "\n",
        "#이미 있는 단어 알기위해 단어목록 저장\n",
        "history = []\n",
        "playing = True\n",
        "#키 발급은 https://krdict.korean.go.kr/openApi/openApiInfo\n",
        "apikey = ''"
      ],
      "metadata": {
        "id": "Ag9LViMXkN_S"
      },
      "id": "Ag9LViMXkN_S",
      "execution_count": null,
      "outputs": []
    },
    {
      "cell_type": "code",
      "source": [
        "#지정한 두 개의 문자열 사이의 문자열을 리턴하는 함수\n",
        "#string list에서 단어, 품사와 같은 요소들을 추출할때 사용됩니다\n",
        "def midReturn(val, s, e):\n",
        "    if s in val:\n",
        "        val = val[val.find(s)+len(s):]\n",
        "        if e in val: val = val[:val.find(e)]\n",
        "    return val\n",
        "\n",
        "#지정한 두 개의 문자열 사이의 문자열 여러개를 리턴하는 함수\n",
        "#string에서 XML 등의 요소를 분석할때 사용됩니다\n",
        "def midReturn_all(val, s, e):\n",
        "    if s in val:\n",
        "        tmp = val.split(s)\n",
        "        val = []\n",
        "        for i in range(0, len(tmp)):\n",
        "            if e in tmp[i]: val.append(tmp[i][:tmp[i].find(e)])\n",
        "    else:\n",
        "        val = []\n",
        "    return val"
      ],
      "metadata": {
        "id": "xfbL0B2RlFMs"
      },
      "id": "xfbL0B2RlFMs",
      "execution_count": null,
      "outputs": []
    },
    {
      "cell_type": "code",
      "source": [
        "def findword(query):\n",
        "    url = 'https://krdict.korean.go.kr/api/search?key=' + apikey + '&part=word&pos=1&q=' + query\n",
        "    response = requests.get(url)\n",
        "    ans = []\n",
        "\n",
        "    #단어 목록을 불러오기\n",
        "    words = midReturn_all(response.text,'<item>','</item>')\n",
        "    for w in words:\n",
        "        #이미 쓴 단어가 아닐때\n",
        "        if not (w in history):\n",
        "            #한글자가 아니고 품사가 명사일때\n",
        "            word = midReturn(w,'<word>','</word>')\n",
        "            pos = midReturn(w,'<pos>','</pos>')\n",
        "              # if len(word) > 1 and pos == '명사' and not word in history and not word[len(word)-1] in blacklist:\n",
        "            ans.append(words)\n",
        "    if len(ans)>0:\n",
        "        return random.choice(ans)\n",
        "    else:\n",
        "        return ''"
      ],
      "metadata": {
        "id": "dpO7Ep2pkV20"
      },
      "id": "dpO7Ep2pkV20",
      "execution_count": null,
      "outputs": []
    },
    {
      "cell_type": "code",
      "source": [
        "def checkexists(query):\n",
        "    url = 'https://krdict.korean.go.kr/api/search?key=' + apikey + '&part=word&sort=popular&num=100&pos=1&q=' + query\n",
        "    response = requests.get(url)\n",
        "    ans = ''\n",
        "    ans_arr = []\n",
        "    #단어 목록을 불러오기\n",
        "    words = midReturn_all(response.text,'<item>','</item>')\n",
        "    for w in words:\n",
        "          #한글자가 아니고 품사가 명사일때\n",
        "          word = midReturn(w,'<word>','</word>')\n",
        "          pos = midReturn(w,'<pos>','</pos>')\n",
        "          # print(w)\n",
        "          # print(word, pos)\n",
        "          if len(word) > 1 and pos == '명사' and word == query:\n",
        "            ans = w\n",
        "            ans_arr.append(w)\n",
        "            # break\n",
        "    # print(ans_arr)\n",
        "    if len(ans)>0:\n",
        "        # return ans\n",
        "        return ans_arr\n",
        "    else:\n",
        "        return ''\n"
      ],
      "metadata": {
        "id": "GOwSsys_m_qo"
      },
      "id": "GOwSsys_m_qo",
      "execution_count": null,
      "outputs": []
    },
    {
      "cell_type": "code",
      "source": [
        "\n",
        "query = input(' > ')\n",
        "\n",
        "start = query[len(query)-1]\n",
        "\n",
        "# ans  = checkexists(query)\n",
        "ans_arr = checkexists(query)\n",
        "\n",
        "# ans = findword(start + '*')"
      ],
      "metadata": {
        "colab": {
          "base_uri": "https://localhost:8080/"
        },
        "id": "ZSoJo5EAkuBD",
        "outputId": "7e0f8150-15e8-46a0-8c41-0341466efee4"
      },
      "id": "ZSoJo5EAkuBD",
      "execution_count": null,
      "outputs": [
        {
          "output_type": "stream",
          "name": "stdout",
          "text": [
            " > 주식\n",
            "['\\r\\n\\t\\t\\r\\n\\t\\t\\r\\n\\t\\t<target_code>25956</target_code>\\r\\n\\t\\t<word>주식</word>\\r\\n\\t\\t<sup_no>2</sup_no>\\r\\n\\t\\t\\r\\n\\t\\t<origin>株式</origin>\\r\\n\\t\\t\\r\\n\\t\\t\\r\\n\\t\\t<pronunciation>주식</pronunciation>\\r\\n\\t\\t\\r\\n\\t\\t\\r\\n\\t\\t<word_grade>중급</word_grade>\\r\\n\\t\\t\\r\\n\\t\\t<pos>명사</pos>\\r\\n\\t\\t<link>https://krdict.korean.go.kr/dicSearch/SearchView?ParaWordNo=25956</link>\\r\\n\\t\\t\\r\\n\\t\\t\\r\\n\\t\\t<sense>\\r\\n\\t\\t\\t<sense_order>1</sense_order>\\r\\n\\t\\t\\t<definition>주식회사의 자본을 같은 값으로 나누어 놓은 단위나 증권.</definition>\\r\\n\\t\\t\\t\\r\\n\\t\\t</sense>\\r\\n\\t\\t\\r\\n\\t\\t\\r\\n\\t\\t\\r\\n\\r\\n\\t\\t\\r\\n\\r\\n\\t\\t\\r\\n\\r\\n\\t\\t\\r\\n\\r\\n\\t\\t\\r\\n\\t', '\\r\\n\\t\\t\\r\\n\\t\\t\\r\\n\\t\\t<target_code>91891</target_code>\\r\\n\\t\\t<word>주식</word>\\r\\n\\t\\t<sup_no>1</sup_no>\\r\\n\\t\\t\\r\\n\\t\\t<origin>主食</origin>\\r\\n\\t\\t\\r\\n\\t\\t\\r\\n\\t\\t<pronunciation>주식</pronunciation>\\r\\n\\t\\t\\r\\n\\t\\t\\r\\n\\t\\t<word_grade>고급</word_grade>\\r\\n\\t\\t\\r\\n\\t\\t<pos>명사</pos>\\r\\n\\t\\t<link>https://krdict.korean.go.kr/dicSearch/SearchView?ParaWordNo=91891</link>\\r\\n\\t\\t\\r\\n\\t\\t\\r\\n\\t\\t<sense>\\r\\n\\t\\t\\t<sense_order>1</sense_order>\\r\\n\\t\\t\\t<definition>밥이나 빵과 같이 끼니에 주가 되는 음식.</definition>\\r\\n\\t\\t\\t\\r\\n\\t\\t</sense>\\r\\n\\t\\t\\r\\n\\t\\t\\r\\n\\t\\t\\r\\n\\r\\n\\t\\t\\r\\n\\r\\n\\t\\t\\r\\n\\r\\n\\t\\t\\r\\n\\r\\n\\t\\t\\r\\n\\t']\n"
          ]
        }
      ]
    },
    {
      "cell_type": "code",
      "source": [
        "ans_arr"
      ],
      "metadata": {
        "colab": {
          "base_uri": "https://localhost:8080/"
        },
        "id": "LbDNGszCrLi3",
        "outputId": "4acd3918-b612-499b-8899-870002ff94a3"
      },
      "id": "LbDNGszCrLi3",
      "execution_count": null,
      "outputs": [
        {
          "output_type": "execute_result",
          "data": {
            "text/plain": [
              "['\\r\\n\\t\\t\\r\\n\\t\\t\\r\\n\\t\\t<target_code>25956</target_code>\\r\\n\\t\\t<word>주식</word>\\r\\n\\t\\t<sup_no>2</sup_no>\\r\\n\\t\\t\\r\\n\\t\\t<origin>株式</origin>\\r\\n\\t\\t\\r\\n\\t\\t\\r\\n\\t\\t<pronunciation>주식</pronunciation>\\r\\n\\t\\t\\r\\n\\t\\t\\r\\n\\t\\t<word_grade>중급</word_grade>\\r\\n\\t\\t\\r\\n\\t\\t<pos>명사</pos>\\r\\n\\t\\t<link>https://krdict.korean.go.kr/dicSearch/SearchView?ParaWordNo=25956</link>\\r\\n\\t\\t\\r\\n\\t\\t\\r\\n\\t\\t<sense>\\r\\n\\t\\t\\t<sense_order>1</sense_order>\\r\\n\\t\\t\\t<definition>주식회사의 자본을 같은 값으로 나누어 놓은 단위나 증권.</definition>\\r\\n\\t\\t\\t\\r\\n\\t\\t</sense>\\r\\n\\t\\t\\r\\n\\t\\t\\r\\n\\t\\t\\r\\n\\r\\n\\t\\t\\r\\n\\r\\n\\t\\t\\r\\n\\r\\n\\t\\t\\r\\n\\r\\n\\t\\t\\r\\n\\t',\n",
              " '\\r\\n\\t\\t\\r\\n\\t\\t\\r\\n\\t\\t<target_code>91891</target_code>\\r\\n\\t\\t<word>주식</word>\\r\\n\\t\\t<sup_no>1</sup_no>\\r\\n\\t\\t\\r\\n\\t\\t<origin>主食</origin>\\r\\n\\t\\t\\r\\n\\t\\t\\r\\n\\t\\t<pronunciation>주식</pronunciation>\\r\\n\\t\\t\\r\\n\\t\\t\\r\\n\\t\\t<word_grade>고급</word_grade>\\r\\n\\t\\t\\r\\n\\t\\t<pos>명사</pos>\\r\\n\\t\\t<link>https://krdict.korean.go.kr/dicSearch/SearchView?ParaWordNo=91891</link>\\r\\n\\t\\t\\r\\n\\t\\t\\r\\n\\t\\t<sense>\\r\\n\\t\\t\\t<sense_order>1</sense_order>\\r\\n\\t\\t\\t<definition>밥이나 빵과 같이 끼니에 주가 되는 음식.</definition>\\r\\n\\t\\t\\t\\r\\n\\t\\t</sense>\\r\\n\\t\\t\\r\\n\\t\\t\\r\\n\\t\\t\\r\\n\\r\\n\\t\\t\\r\\n\\r\\n\\t\\t\\r\\n\\r\\n\\t\\t\\r\\n\\r\\n\\t\\t\\r\\n\\t']"
            ]
          },
          "metadata": {},
          "execution_count": 75
        }
      ]
    },
    {
      "cell_type": "code",
      "source": [
        "import re\n",
        "from urllib import request\n",
        "\n",
        "# 정규표현식으로 바꾸기\n",
        "results=[]\n",
        "for ans in ans_arr:\n",
        "  print(ans.split('definition')[1][1:-3])"
      ],
      "metadata": {
        "colab": {
          "base_uri": "https://localhost:8080/"
        },
        "id": "F-98b-FPr15D",
        "outputId": "de72513f-409d-4d9e-fb4e-2de937ce428b"
      },
      "id": "F-98b-FPr15D",
      "execution_count": null,
      "outputs": [
        {
          "output_type": "stream",
          "name": "stdout",
          "text": [
            "주식회사의 자본을 같은 값으로 나누어 놓은 단위나 증권\n",
            "밥이나 빵과 같이 끼니에 주가 되는 음식\n"
          ]
        }
      ]
    },
    {
      "cell_type": "code",
      "source": [],
      "metadata": {
        "id": "fnfBAi4ToP-c"
      },
      "id": "fnfBAi4ToP-c",
      "execution_count": null,
      "outputs": []
    }
  ],
  "metadata": {
    "kernelspec": {
      "display_name": "Python 3 (ipykernel)",
      "language": "python",
      "name": "python3"
    },
    "language_info": {
      "codemirror_mode": {
        "name": "ipython",
        "version": 3
      },
      "file_extension": ".py",
      "mimetype": "text/x-python",
      "name": "python",
      "nbconvert_exporter": "python",
      "pygments_lexer": "ipython3",
      "version": "3.9.17"
    },
    "colab": {
      "provenance": []
    }
  },
  "nbformat": 4,
  "nbformat_minor": 5
}